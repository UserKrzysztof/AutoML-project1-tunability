{
 "cells": [
  {
   "cell_type": "code",
   "execution_count": null,
   "metadata": {},
   "outputs": [],
   "source": [
    "import pandas as pd\n",
    "import numpy as np\n",
    "import os\n",
    "\n",
    "from skopt import BayesSearchCV\n",
    "from skopt.space import Real, Categorical, Integer\n",
    "from skopt.plots import plot_objective, plot_histogram\n",
    "\n",
    "from skopt import BayesSearchCV\n",
    "\n",
    "from utils import ModelSuplier, DataLoader, DataSaver"
   ]
  },
  {
   "cell_type": "code",
   "execution_count": 2,
   "metadata": {},
   "outputs": [],
   "source": [
    "ms = ModelSuplier()\n",
    "\n",
    "pipelines = ms.pipelines"
   ]
  },
  {
   "cell_type": "code",
   "execution_count": 3,
   "metadata": {},
   "outputs": [
    {
     "name": "stdout",
     "output_type": "stream",
     "text": [
      "Using default path\n"
     ]
    }
   ],
   "source": [
    "dl = DataLoader()\n",
    "\n",
    "data_as_X_and_y = dl.transformed_data"
   ]
  },
  {
   "cell_type": "code",
   "execution_count": 5,
   "metadata": {},
   "outputs": [],
   "source": [
    "ds = DataSaver(os.path.join(\"..\", \"history_bayes\"))"
   ]
  },
  {
   "cell_type": "markdown",
   "metadata": {},
   "source": [
    "# Bayes Search (for default params)"
   ]
  },
  {
   "cell_type": "code",
   "execution_count": null,
   "metadata": {},
   "outputs": [
    {
     "ename": "NameError",
     "evalue": "name 'Integer' is not defined",
     "output_type": "error",
     "traceback": [
      "\u001b[0;31m---------------------------------------------------------------------------\u001b[0m",
      "\u001b[0;31mNameError\u001b[0m                                 Traceback (most recent call last)",
      "Cell \u001b[0;32mIn[6], line 3\u001b[0m\n\u001b[1;32m      1\u001b[0m param_distributions \u001b[38;5;241m=\u001b[39m [\n\u001b[1;32m      2\u001b[0m     {\n\u001b[0;32m----> 3\u001b[0m         \u001b[38;5;124m\"\u001b[39m\u001b[38;5;124mmodel__max_depth\u001b[39m\u001b[38;5;124m\"\u001b[39m: \u001b[43mInteger\u001b[49m(\u001b[38;5;241m1\u001b[39m, \u001b[38;5;241m31\u001b[39m),\n\u001b[1;32m      4\u001b[0m         \u001b[38;5;124m\"\u001b[39m\u001b[38;5;124mmodel__min_samples_split\u001b[39m\u001b[38;5;124m\"\u001b[39m: Integer(\u001b[38;5;241m2\u001b[39m, \u001b[38;5;241m61\u001b[39m),\n\u001b[1;32m      5\u001b[0m         \u001b[38;5;124m\"\u001b[39m\u001b[38;5;124mmodel__criterion\u001b[39m\u001b[38;5;124m\"\u001b[39m: Categorical([\u001b[38;5;124m\"\u001b[39m\u001b[38;5;124mgini\u001b[39m\u001b[38;5;124m\"\u001b[39m, \u001b[38;5;124m\"\u001b[39m\u001b[38;5;124mentropy\u001b[39m\u001b[38;5;124m\"\u001b[39m]),\n\u001b[1;32m      6\u001b[0m         \u001b[38;5;124m\"\u001b[39m\u001b[38;5;124mmodel__min_samples_leaf\u001b[39m\u001b[38;5;124m\"\u001b[39m: Integer(\u001b[38;5;241m1\u001b[39m, \u001b[38;5;241m61\u001b[39m)\n\u001b[1;32m      7\u001b[0m     },\n\u001b[1;32m      8\u001b[0m     {\n\u001b[1;32m      9\u001b[0m         \u001b[38;5;124m\"\u001b[39m\u001b[38;5;124mmodel__n_estimators\u001b[39m\u001b[38;5;124m\"\u001b[39m: Integer(\u001b[38;5;241m100\u001b[39m, \u001b[38;5;241m501\u001b[39m),      \n\u001b[1;32m     10\u001b[0m         \u001b[38;5;124m\"\u001b[39m\u001b[38;5;124mmodel__min_samples_leaf\u001b[39m\u001b[38;5;124m\"\u001b[39m: Integer(\u001b[38;5;241m1\u001b[39m, \u001b[38;5;241m251\u001b[39m),    \n\u001b[1;32m     11\u001b[0m         \u001b[38;5;124m\"\u001b[39m\u001b[38;5;124mmodel__max_samples\u001b[39m\u001b[38;5;124m\"\u001b[39m: Real(\u001b[38;5;241m0.5\u001b[39m, \u001b[38;5;241m0.5\u001b[39m),        \n\u001b[1;32m     12\u001b[0m         \u001b[38;5;124m\"\u001b[39m\u001b[38;5;124mmodel__max_features\u001b[39m\u001b[38;5;124m\"\u001b[39m: Real(\u001b[38;5;241m1e-6\u001b[39m, \u001b[38;5;241m1\u001b[39m \u001b[38;5;241m-\u001b[39m \u001b[38;5;241m1e-6\u001b[39m)   \n\u001b[1;32m     13\u001b[0m     },\n\u001b[1;32m     14\u001b[0m     {\n\u001b[1;32m     15\u001b[0m         \u001b[38;5;124m\"\u001b[39m\u001b[38;5;124mmodel__max_depth\u001b[39m\u001b[38;5;124m\"\u001b[39m: Integer(\u001b[38;5;241m1\u001b[39m, \u001b[38;5;241m20\u001b[39m),\n\u001b[1;32m     16\u001b[0m         \u001b[38;5;124m\"\u001b[39m\u001b[38;5;124mmodel__min_child_weight\u001b[39m\u001b[38;5;124m\"\u001b[39m: Integer(\u001b[38;5;241m0\u001b[39m, \u001b[38;5;241m20\u001b[39m),\n\u001b[1;32m     17\u001b[0m         \u001b[38;5;124m\"\u001b[39m\u001b[38;5;124mmodel__eta\u001b[39m\u001b[38;5;124m\"\u001b[39m: Real(\u001b[38;5;241m0.01\u001b[39m, \u001b[38;5;241m0.1\u001b[39m), \n\u001b[1;32m     18\u001b[0m         \u001b[38;5;124m\"\u001b[39m\u001b[38;5;124mmodel__alpha\u001b[39m\u001b[38;5;124m\"\u001b[39m: Real(\u001b[38;5;241m1e-4\u001b[39m, \u001b[38;5;241m10\u001b[39m, prior\u001b[38;5;241m=\u001b[39m\u001b[38;5;124m\"\u001b[39m\u001b[38;5;124mlog-uniform\u001b[39m\u001b[38;5;124m\"\u001b[39m)\n\u001b[1;32m     19\u001b[0m }\n\u001b[1;32m     20\u001b[0m ]\n",
      "\u001b[0;31mNameError\u001b[0m: name 'Integer' is not defined"
     ]
    }
   ],
   "source": [
    "param_distributions = [\n",
    "    {\n",
    "        \"model__max_depth\": Integer(1, 31),\n",
    "        \"model__min_samples_split\": Integer(2, 61),\n",
    "        \"model__criterion\": Categorical([\"gini\", \"entropy\"]),\n",
    "        \"model__min_samples_leaf\": Integer(1, 61)\n",
    "    },\n",
    "    {\n",
    "        \"model__n_estimators\": Integer(100, 501),      \n",
    "        \"model__min_samples_leaf\": Integer(1, 251),    \n",
    "        \"model__max_samples\": Real(0.5, 0.5),        \n",
    "        \"model__max_features\": Real(1e-6, 1 - 1e-6)   \n",
    "    },\n",
    "    {\n",
    "        \"model__max_depth\": Integer(1, 20),\n",
    "        \"model__min_child_weight\": Integer(0, 20),\n",
    "        \"model__eta\": Real(0.01, 0.1), \n",
    "        \"model__alpha\": Real(1e-4, 10, prior=\"log-uniform\")\n",
    "    }   \n",
    "]"
   ]
  }
 ],
 "metadata": {
  "kernelspec": {
   "display_name": "Python 3",
   "language": "python",
   "name": "python3"
  },
  "language_info": {
   "codemirror_mode": {
    "name": "ipython",
    "version": 3
   },
   "file_extension": ".py",
   "mimetype": "text/x-python",
   "name": "python",
   "nbconvert_exporter": "python",
   "pygments_lexer": "ipython3",
   "version": "3.11.10"
  }
 },
 "nbformat": 4,
 "nbformat_minor": 2
}
